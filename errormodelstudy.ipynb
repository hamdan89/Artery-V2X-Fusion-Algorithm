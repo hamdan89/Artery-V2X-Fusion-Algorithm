{
 "cells": [
  {
   "cell_type": "markdown",
   "metadata": {},
   "source": [
    "# Import Required Libraries\n",
    "Import the necessary libraries, including numpy, matplotlib, and scipy."
   ]
  },
  {
   "cell_type": "code",
   "execution_count": 1,
   "metadata": {},
   "outputs": [],
   "source": [
    "import pandas as pd\n",
    "import numpy as np\n",
    "from astropy.visualization import hist\n",
    "import matplotlib.pyplot as plt\n",
    "import seaborn as sns\n",
    "import re\n",
    "\n",
    "from scipy.stats import norm\n",
    "\n",
    "%matplotlib inline\n",
    "plt.rcParams[\"figure.figsize\"] = [10, 5]\n",
    "\n",
    "def parse_if_number(s):\n",
    "    try: return float(s)\n",
    "    except: return True if s==\"true\" else False if s==\"false\" else s if s else None\n",
    "\n",
    "def parse_ndarray(s):\n",
    "    return np.fromstring(s, sep=' ') if s else None\n",
    "\n",
    "filename = \"position.csv\"\n",
    "\n",
    "data = pd.read_csv(filename, converters = {\n",
    "        'attrvalue': parse_if_number,\n",
    "        'binedges': parse_ndarray,\n",
    "        'binvalues': parse_ndarray,\n",
    "        'vectime': parse_ndarray,\n",
    "        'vecvalue': parse_ndarray})\n",
    "\n",
    "\n",
    "vectors = data[data.type=='vector']"
   ]
  },
  {
   "cell_type": "markdown",
   "metadata": {},
   "source": [
    "vectors related 'camObjectIDs',\n",
    "        'camObjectXPositions', 'camObjectYPositions', 'camObjectSpeeds',\n",
    "        'camObjectHeadingValues', 'camObjectTimestamps', 'receivedCpms',"
   ]
  },
  {
   "cell_type": "code",
   "execution_count": 2,
   "metadata": {},
   "outputs": [
    {
     "name": "stdout",
     "output_type": "stream",
     "text": [
      "[ 1.29110867  1.49110867  1.79110867 ... 29.98792018 29.9911092\n",
      " 29.99409106]\n"
     ]
    }
   ],
   "source": [
    "camObjectIDs = vectors[vectors['name'] == 'camObjectIDs']\n",
    "camObjectXPositions = vectors[vectors['name'] == 'camObjectXPositions']\n",
    "camObjectYPositions = vectors[vectors['name'] == 'camObjectYPositions']\n",
    "camObjectSpeeds = vectors[vectors['name'] == 'camObjectSpeeds']\n",
    "camObjectHeadingValues = vectors[vectors['name'] == 'camObjectHeadingValues']\n",
    "camObjectTimestamps = vectors[vectors['name'] == 'camObjectTimestamps']\n",
    "\n",
    "camObjectIDsvalues = []\n",
    "camObjectXPositionsvalues = []\n",
    "camObjectYPositionsvalues = []\n",
    "camObjectSpeedsvalues = []\n",
    "camObjectHeadingValuesvalues = []\n",
    "camObjectTimestampsvalues = []\n",
    "\n",
    "for row in camObjectIDs.itertuples():\n",
    "        camObjectIDsvalues.append(row.vecvalue)\n",
    "for row in camObjectXPositions.itertuples():\n",
    "        camObjectXPositionsvalues.append(row.vecvalue)\n",
    "for row in camObjectYPositions.itertuples():\n",
    "        camObjectYPositionsvalues.append(row.vecvalue)\n",
    "for row in camObjectTimestamps.itertuples():\n",
    "        camObjectTimestampsvalues.append(row.vecvalue)\n",
    "\n",
    "print(camObjectTimestampsvalues[0])               "
   ]
  },
  {
   "cell_type": "code",
   "execution_count": 3,
   "metadata": {},
   "outputs": [
    {
     "name": "stdout",
     "output_type": "stream",
     "text": [
      "30\n"
     ]
    }
   ],
   "source": [
    "combined_list = [list(item) for item in zip(camObjectTimestampsvalues, camObjectIDsvalues, camObjectXPositionsvalues, camObjectYPositionsvalues )]\n",
    "#print(combined_list[0])\n",
    "\n",
    "print(len(combined_list))"
   ]
  },
  {
   "cell_type": "code",
   "execution_count": 4,
   "metadata": {},
   "outputs": [
    {
     "name": "stdout",
     "output_type": "stream",
     "text": [
      "[[[1.291108674537, 20.0, 181150.0, 10330.0], [1.49110867297, 20.0, 181150.0, 10820.0], [1.791108669915, 20.0, 181150.0, 11690.0], [2.091108665967, 20.0, 181150.0, 12730.0]], [[1.470039675313, 111.0, 98810.0, 88940.0], [1.670039673378, 111.0, 99000.0, 88940.0], [1.87003967104, 111.0, 99280.0, 88940.0], [2.07003966831, 111.0, 99620.0, 88940.0]], [[2.370039307399, 111.0, 100280.0, 88940.0], [2.391108677981, 20.0, 181150.0, 13950.0], [2.670039310483, 111.0, 101100.0, 88940.0], [2.691108674459, 20.0, 181150.0, 15330.0]], [[4.105331065023, 202.0, 88350.0, 77230.0], [4.170039661392, 111.0, 107580.0, 88940.0], [4.191108961467, 20.0, 181150.0, 24640.0], [4.405331065101, 202.0, 88350.0, 75960.0]], [[4.705331002257, 202.0, 88350.0, 74540.0], [4.758228841935, 293.0, -1480.0, 78810.0], [4.77003959739, 111.0, 111300.0, 88940.0], [4.791108640519, 20.0, 181150.0, 29550.0]], [[6.058228784637, 293.0, -1480.0, 73430.0], [6.191109077251, 20.0, 181150.0, 43700.0], [6.205331243656, 202.0, 88350.0, 65110.0], [6.270039808211, 111.0, 123440.0, 88940.0]], [[6.570039730473, 111.0, 126280.0, 88940.0], [6.579683111786, 475.0, -1480.0, 169800.0], [6.591108941718, 20.0, 181150.0, 48500.0], [6.618076913473, 384.0, 74620.0, 1490.0]], [[7.591109116473, 20.0, 181150.0, 61600.0], [7.67968328427, 475.0, -1480.0, 165730.0], [7.705331547081, 202.0, 88350.0, 51760.0], [7.770039967533, 111.0, 139230.0, 88940.0]], [[8.579683761086, 475.0, -1480.0, 160770.0], [8.59110874908, 20.0, 181150.0, 74060.0], [8.599626024959, 657.0, 78790.0, 272800.0], [8.605331553514, 202.0, 88350.0, 41900.0]], [[9.470039698621, 111.0, 159060.0, 88940.0], [9.479683852578, 475.0, -1480.0, 154450.0], [9.499626286467, 657.0, 75480.0, 272800.0], [9.505331469307, 202.0, 88350.0, 30880.0]], [[10.4311084463, 20.0, 180170.0, 87380.0], [10.433150731289, 839.0, 280280.0, 88940.0], [10.470039736561, 111.0, 168490.0, 88940.0], [10.481239765345, 748.0, 254860.0, 182370.0]], [[11.270039951732, 111.0, 173520.0, 88940.0], [11.279684138037, 475.0, -1480.0, 137780.0], [11.299626545862, 657.0, 64310.0, 272800.0], [11.305331793805, 202.0, 88350.0, 11360.0]], [[12.305331765679, 202.0, 88350.0, 4900.0], [12.318077652699, 384.0, 19810.0, 1490.0], [12.330039667221, 111.0, 174260.0, 91930.0], [12.351552221165, 930.0, 270980.0, 13740.0]], [[13.805331420601, 202.0, 91310.0, 11640.0], [13.851552327598, 930.0, 270980.0, 21730.0], [13.870039896777, 111.0, 158810.0, 91930.0], [13.91817709124, 384.0, 5280.0, 1490.0]], [[14.751551421746, 930.0, 270980.0, 28190.0], [14.758229495624, 293.0, 1480.0, 9310.0], [14.770039739634, 111.0, 148400.0, 91930.0], [14.778077080621, 384.0, 1720.0, -580.0]], [[16.233150831724, 839.0, 323340.0, 88940.0], [16.251551834367, 930.0, 270980.0, 42160.0], [16.270040182038, 111.0, 130920.0, 91930.0], [16.2911091697, 20.0, 178180.0, 22520.0]], [[17.000671077015, 566.0, 950.0, 2140.0], [17.018257514483, 1385.0, 360810.0, 190750.0], [17.01968301443, 475.0, 4450.0, 88940.0], [17.033150632734, 839.0, 331860.0, 88940.0]], [[17.600671622927, 566.0, 1480.0, 6630.0], [17.618270312435, 1385.0, 360810.0, 192270.0], [17.65155203834, 930.0, 270980.0, 58710.0], [17.681239809826, 748.0, 188530.0, 182370.0]], [[18.370040283703, 111.0, 106780.0, 91930.0], [18.380035831269, 475.0, 17720.0, 88940.0], [18.405331863339, 202.0, 91310.0, 66890.0], [18.417808621151, 1203.0, 36020.0, 179380.0]], [[19.733151760975, 839.0, 355040.0, 88940.0], [19.751552230204, 930.0, 270980.0, 83150.0], [19.770039712651, 111.0, 96650.0, 91930.0], [19.777604164646, 1021.0, 360810.0, 165650.0]], [[20.751551935443, 930.0, 270130.0, 89490.0], [20.753056998302, 1567.0, 338340.0, 272800.0], [20.753451688373, 839.0, 351230.0, 91930.0], [20.764607163294, 1476.0, 293620.0, 88940.0]], [[21.933151570229, 839.0, 339310.0, 91930.0], [21.937602908678, 1021.0, 358610.0, 181380.0], [21.951552221246, 930.0, 261640.0, 91930.0], [21.96460742954, 1476.0, 303640.0, 88940.0]], [[23.680671349137, 566.0, 1480.0, 79840.0], [23.691109827062, 20.0, 232810.0, -1490.0], [23.693057760449, 1567.0, 310280.0, 272800.0], [23.694694457793, 1112.0, 88350.0, 266270.0]], [[24.194091409823, 1840.0, 88350.0, 156850.0], [24.228157224295, 1294.0, 354580.0, 88940.0], [24.280670804581, 566.0, 1480.0, 87700.0], [24.291108778014, 20.0, 240710.0, -1490.0]], [[24.280671656628, 566.0, 1480.0, 87700.0], [24.29110904403, 20.0, 240710.0, -1490.0], [24.299626582399, 657.0, -1480.0, 206510.0], [24.313976442531, 2113.0, 99450.0, -1490.0]], [[26.619683061118, 475.0, 88350.0, 81660.0], [26.658229439816, 293.0, 72590.0, 88940.0], [26.679683846441, 475.0, 88350.0, 80750.0], [26.680671180535, 566.0, 1480.0, 119100.0]], [[27.833150730547, 839.0, 278850.0, 91930.0], [27.838139706931, 1385.0, 353140.0, 272800.0], [27.858229449717, 293.0, 81920.0, 88940.0], [27.880671652536, 566.0, 1480.0, 134810.0]], [[27.987920612045, 1749.0, 75750.0, 179380.0], [27.994091728335, 1840.0, 88350.0, 117020.0], [28.005331489605, 202.0, 91310.0, 188270.0], [28.017808400484, 1203.0, 137440.0, 179380.0]], [[28.294091585307, 1840.0, 88350.0, 113190.0], [28.299626412058, 657.0, -1480.0, 162180.0], [28.305331674171, 202.0, 91310.0, 192060.0], [28.317808569537, 1203.0, 141630.0, 179380.0]], [[29.828157296351, 1294.0, 299490.0, 91930.0], [29.833151378849, 839.0, 263750.0, 91930.0], [29.861229893842, 2386.0, 357840.0, 75180.0], [29.877760710416, 1658.0, 88350.0, 353870.0]]]\n"
     ]
    }
   ],
   "source": [
    "df = pd.DataFrame(combined_list, columns=['Timestamp', 'ID', 'X', 'Y'])\n",
    "#print(df.iloc[0])\n",
    "\n",
    "\n",
    "result = []\n",
    "\n",
    "for sublist in combined_list:\n",
    "    timestamp_list = []\n",
    "    id_list = []\n",
    "    x_list = []\n",
    "    y_list = []\n",
    "\n",
    "    for item in sublist:\n",
    "        timestamp_list.append(item[0])\n",
    "        id_list.append(item[1])\n",
    "        x_list.append(item[2])\n",
    "        y_list.append(item[3])\n",
    "\n",
    "    new_list = [timestamp_list, id_list, x_list, y_list]\n",
    "    result.append(new_list)\n",
    "\n",
    "print(result)\n"
   ]
  },
  {
   "cell_type": "code",
   "execution_count": 7,
   "metadata": {},
   "outputs": [
    {
     "name": "stdout",
     "output_type": "stream",
     "text": [
      "   Timestamp    ID         X        Y\n",
      "0   1.291109  20.0  181150.0  10330.0\n",
      "1   1.491109  20.0  181150.0  10820.0\n",
      "2   1.791109  20.0  181150.0  11690.0\n",
      "3   2.091109  20.0  181150.0  12730.0\n"
     ]
    }
   ],
   "source": [
    "#print(result[0])\n",
    "\n",
    "df = pd.DataFrame(result[0], columns=['Timestamp', 'ID', 'X', 'Y'])\n",
    "\n",
    "#print(df.iloc[0:10])\n",
    "\n",
    "filtered_df = df[df['Timestamp'].between(1, 3)]\n",
    "\n",
    "print(filtered_df)"
   ]
  },
  {
   "cell_type": "markdown",
   "metadata": {},
   "source": [
    "# Define Gaussian Error Model\n",
    "Define the Gaussian error model, including the mean and standard deviation parameters."
   ]
  },
  {
   "cell_type": "code",
   "execution_count": 8,
   "metadata": {},
   "outputs": [
    {
     "name": "stdout",
     "output_type": "stream",
     "text": [
      "Standard Deviation of X positions:  0.0\n",
      "Standard Deviation of Y positions:  912.972480417674\n",
      "Mean of X positions:  181150.0\n",
      "Mean of Y positions:  11392.5\n"
     ]
    }
   ],
   "source": [
    "\n",
    "original_x_positions = [i for i in filtered_df.X]    \n",
    "original_y_positions = [i for i in filtered_df.Y]\n",
    "\n",
    "std_dev_x = np.std(original_x_positions)\n",
    "std_dev_y = np.std(original_y_positions)\n",
    "\n",
    "print(\"Standard Deviation of X positions: \", std_dev_x)\n",
    "print(\"Standard Deviation of Y positions: \", std_dev_y)\n",
    "\n",
    "mean_x = np.mean(original_x_positions)\n",
    "mean_y = np.mean(original_y_positions)\n",
    "\n",
    "print(\"Mean of X positions: \", mean_x)\n",
    "print(\"Mean of Y positions: \", mean_y)\n"
   ]
  },
  {
   "cell_type": "code",
   "execution_count": 10,
   "metadata": {},
   "outputs": [
    {
     "name": "stdout",
     "output_type": "stream",
     "text": [
      "[181150.0, 181150.0, 181150.0, 181150.0]\n",
      "[181150.0, 181150.0, 181150.0, 181150.0]\n",
      "[10330.0, 10820.0, 11690.0, 12730.0]\n",
      "[9421.521934788685, 10218.54332906808, 11196.052019534976, 12826.318172393641]\n"
     ]
    }
   ],
   "source": [
    "import numpy as np\n",
    "\n",
    "time_stamps = [i for i in filtered_df.Timestamp]\n",
    "# Assume original_x_positions and original_y_positions are your original measurements\n",
    "original_x_positions = [i for i in filtered_df.X]    \n",
    "original_y_positions = [i for i in filtered_df.Y]\n",
    "\n",
    "# Determine the standard deviation\n",
    "std_dev_x = np.std(original_x_positions)\n",
    "std_dev_y = np.std(original_y_positions)\n",
    "\n",
    "# Generate random numbers from a Gaussian distribution with mean 0 and the determined standard deviation\n",
    "x_errors = np.random.normal(0, std_dev_x, len(original_x_positions))\n",
    "y_errors = np.random.normal(0, std_dev_y, len(original_y_positions))\n",
    "\n",
    "# Add the errors to the original measurements\n",
    "x_positions_with_noise = [original + error for original, error in zip(original_x_positions, x_errors)]\n",
    "y_positions_with_noise = [original + error for original, error in zip(original_y_positions, y_errors)]\n",
    "\n",
    "print(original_x_positions)\n",
    "print(x_positions_with_noise)\n",
    "print(original_y_positions)\n",
    "print(y_positions_with_noise)"
   ]
  },
  {
   "cell_type": "code",
   "execution_count": 11,
   "metadata": {},
   "outputs": [
    {
     "data": {
      "image/png": "[encoded data removed]",
      "text/plain": [
       "<Figure size 720x360 with 1 Axes>"
      ]
     },
     "metadata": {
      "needs_background": "light"
     },
     "output_type": "display_data"
    },
    {
     "data": {
      "image/png": "[encoded data removed]",
      "text/plain": [
       "<Figure size 720x360 with 1 Axes>"
      ]
     },
     "metadata": {
      "needs_background": "light"
     },
     "output_type": "display_data"
    }
   ],
   "source": [
    "import matplotlib.pyplot as plt\n",
    "import matplotlib.ticker\n",
    "\n",
    "# Create separate arrays for original and noisy x positions\n",
    "original_x_positions_array = original_x_positions.copy()\n",
    "noisy_x_positions_array = x_positions_with_noise.copy()\n",
    "\n",
    "# Plot original x positions\n",
    "plt.figure(figsize=(10, 5))\n",
    "plt.plot(time_stamps, original_x_positions_array, label='Original X Positions')\n",
    "plt.plot(time_stamps, noisy_x_positions_array, label='Noisy X Positions')\n",
    "# Plot dots for original x positions\n",
    "plt.scatter(time_stamps, original_x_positions_array, label='Original X Positions', marker='o', c='blue', s=20)\n",
    "\n",
    "# Plot dots for noisy x positions\n",
    "plt.scatter(time_stamps, noisy_x_positions_array, label='Noisy X Positions', marker='^', c='red', s=20)\n",
    "plt.gca().yaxis.set_major_formatter(matplotlib.ticker.FormatStrFormatter('%.0f'))\n",
    "plt.title('X Positions Over Time')\n",
    "plt.xlabel('Time')\n",
    "plt.ylabel('X Position')\n",
    "plt.legend()\n",
    "plt.show()\n",
    "\n",
    "# Create separate arrays for original and noisy y positions\n",
    "original_y_positions_array = original_y_positions.copy()\n",
    "noisy_y_positions_array = y_positions_with_noise.copy()\n",
    "\n",
    "# Plot original y positions\n",
    "plt.figure(figsize=(10, 5))\n",
    "plt.plot(time_stamps, original_y_positions_array, label='Ground Truth Y Positions')\n",
    "plt.plot(time_stamps, noisy_y_positions_array, label='Noisy Y Positions')\n",
    "\n",
    "# Plot dots for original x positions\n",
    "plt.scatter(time_stamps, original_y_positions_array, label='Original Y Positions', marker='o', c='blue', s=20)\n",
    "\n",
    "# Plot dots for noisy x positions\n",
    "plt.scatter(time_stamps, noisy_y_positions_array, label='Noisy Y Positions', marker='^', c='red', s=20)\n",
    "plt.gca().yaxis.set_major_formatter(matplotlib.ticker.FormatStrFormatter('%.0f'))\n",
    "plt.title('Y Positions Over Time')\n",
    "plt.xlabel('Time')\n",
    "plt.ylabel('Y Position')\n",
    "plt.legend()\n",
    "plt.show()\n",
    "\n"
   ]
  },
  {
   "cell_type": "code",
   "execution_count": null,
   "metadata": {},
   "outputs": [],
   "source": []
  },
  {
   "cell_type": "code",
   "execution_count": null,
   "metadata": {},
   "outputs": [],
   "source": []
  }
 ],
 "metadata": {
  "kernelspec": {
   "display_name": "Python 3",
   "language": "python",
   "name": "python3"
  },
  "language_info": {
   "codemirror_mode": {
    "name": "ipython",
    "version": 3
   },
   "file_extension": ".py",
   "mimetype": "text/x-python",
   "name": "python",
   "nbconvert_exporter": "python",
   "pygments_lexer": "ipython3",
   "version": "3.6.9"
  },
  "orig_nbformat": 4
 },
 "nbformat": 4,
 "nbformat_minor": 2
}
